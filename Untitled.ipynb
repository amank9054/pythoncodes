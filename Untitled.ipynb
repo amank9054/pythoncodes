{
 "cells": [
  {
   "cell_type": "code",
   "execution_count": null,
   "metadata": {},
   "outputs": [],
   "source": [
    "def add(x,y):\n",
    "    print(\"x=\",x)\n",
    "    print(\"y=\",y)\n",
    "    print(\"x+y=\",x+y)\n",
    "    return x+y\n"
   ]
  },
  {
   "cell_type": "code",
   "execution_count": null,
   "metadata": {},
   "outputs": [],
   "source": [
    "r1=add(3,4)"
   ]
  },
  {
   "cell_type": "code",
   "execution_count": null,
   "metadata": {},
   "outputs": [],
   "source": [
    "def a(n):\n",
    "    n%2==0\n",
    "    print(\"enter a no.:\")\n",
    "    if n=0 :\n",
    "        print(t)\n",
    "    else:\n",
    "    print(f)\n",
    "    return n"
   ]
  },
  {
   "cell_type": "code",
   "execution_count": null,
   "metadata": {},
   "outputs": [],
   "source": [
    "def even (num):\n",
    "    if isinstance(num,int) and num %2==0 :\n",
    "         return \"even\"\n",
    "        "
   ]
  },
  {
   "cell_type": "code",
   "execution_count": null,
   "metadata": {},
   "outputs": [],
   "source": [
    "def prime (num):\n",
    "    \n",
    "    if  num>1:\n",
    "        for i in range(2,num)\n",
    "       \n",
    "    num%1==0 :\n",
    "        return \"prime\"\n",
    "    else :\n",
    "        return \"error\"\n",
    "    "
   ]
  },
  {
   "cell_type": "code",
   "execution_count": null,
   "metadata": {},
   "outputs": [],
   "source": [
    "prime(3)"
   ]
  },
  {
   "cell_type": "code",
   "execution_count": null,
   "metadata": {},
   "outputs": [],
   "source": [
    "prime(2)"
   ]
  },
  {
   "cell_type": "code",
   "execution_count": null,
   "metadata": {},
   "outputs": [],
   "source": [
    "prime(1)"
   ]
  },
  {
   "cell_type": "code",
   "execution_count": null,
   "metadata": {},
   "outputs": [],
   "source": [
    "num=int(input(\"enter a num:\"))\n",
    "  for check in range (2,mun):\n",
    "        print(f\"{num} % )"
   ]
  },
  {
   "cell_type": "code",
   "execution_count": null,
   "metadata": {},
   "outputs": [],
   "source": [
    "prime(5)"
   ]
  },
  {
   "cell_type": "code",
   "execution_count": null,
   "metadata": {},
   "outputs": [],
   "source": []
  },
  {
   "cell_type": "code",
   "execution_count": null,
   "metadata": {},
   "outputs": [],
   "source": [
    " def login(uname,password) :\n",
    "        \n",
    "        if isinstance(uname,str and password,str) uname =='sachin' and password=='redhat':\n",
    "            return 'true'\n",
    "        else :\n",
    "            return 'false' \n",
    "    \n",
    "        "
   ]
  },
  {
   "cell_type": "code",
   "execution_count": null,
   "metadata": {},
   "outputs": [],
   "source": [
    " for i in range(2,num):"
   ]
  },
  {
   "cell_type": "code",
   "execution_count": null,
   "metadata": {},
   "outputs": [],
   "source": [
    "database = { \n",
    "            1001 : { 'name':'raman','password':'redhat','bal':15000},\n",
    "            1002 : { 'name':'tommy','password':'something','bal':25000},\n",
    "            1003 : { 'name':'jhon','password':'iamcool','bal':35000}\n",
    "            }\n",
    "def login(uname,password):\n",
    "    if name.lower().strip() == uname :\n",
    "        if passwd == password : \n",
    "print(\"login successfully\")\n",
    "\n",
    "\n"
   ]
  },
  {
   "cell_type": "code",
   "execution_count": null,
   "metadata": {},
   "outputs": [],
   "source": [
    "# file handling----->\n",
    "# types-->1. regular txt file -----> human readable\n",
    "#         2. binary file/byte file ----> program, bytes\n",
    "\n",
    "#   ----->file is a permanent type of data\n",
    "        \n",
    "        "
   ]
  },
  {
   "cell_type": "code",
   "execution_count": null,
   "metadata": {},
   "outputs": [],
   "source": [
    "open = ()"
   ]
  },
  {
   "cell_type": "code",
   "execution_count": null,
   "metadata": {},
   "outputs": [],
   "source": [
    "cd"
   ]
  },
  {
   "cell_type": "code",
   "execution_count": null,
   "metadata": {},
   "outputs": [],
   "source": [
    "fp=open('C:\\\\Users\\\\aman9\\\\desktop\\\\result.txt','w+')"
   ]
  },
  {
   "cell_type": "code",
   "execution_count": null,
   "metadata": {},
   "outputs": [],
   "source": [
    "s=\"\"\"1. aman,90,90,90 \\n\n",
    "     2. amit 50,70,67 \\n\n",
    "     3. akash 20,45,10\"\"\"\n",
    "fp.write(s)"
   ]
  },
  {
   "cell_type": "code",
   "execution_count": null,
   "metadata": {},
   "outputs": [],
   "source": [
    "fp.close()"
   ]
  },
  {
   "cell_type": "code",
   "execution_count": null,
   "metadata": {},
   "outputs": [],
   "source": [
    "fp=open('C:\\\\Users\\\\aman9\\\\desktop\\\\result.txt','r')"
   ]
  },
  {
   "cell_type": "code",
   "execution_count": null,
   "metadata": {},
   "outputs": [],
   "source": [
    "fp.read()"
   ]
  },
  {
   "cell_type": "raw",
   "metadata": {},
   "source": []
  },
  {
   "cell_type": "code",
   "execution_count": null,
   "metadata": {},
   "outputs": [],
   "source": []
  },
  {
   "cell_type": "code",
   "execution_count": null,
   "metadata": {},
   "outputs": [],
   "source": [
    "def hello(name):\n",
    "    for var in range(4):\n",
    "        print('hello',name)\n",
    "    \n",
    "def bye(fname,lname):\n",
    "    for var in range(4):\n",
    "        print('bye',fname,lname)"
   ]
  },
  {
   "cell_type": "code",
   "execution_count": null,
   "metadata": {},
   "outputs": [],
   "source": [
    "hello('aman')\n",
    "bye('aman','kumar')"
   ]
  },
  {
   "cell_type": "code",
   "execution_count": null,
   "metadata": {},
   "outputs": [],
   "source": [
    "import threading\n",
    "th1 = threading.Thread(target=hello,args=('aman',))\n",
    "th2 = threading.Thread(target=bye,args=('aman','kumar'))\n",
    "\n",
    "\n",
    "th1.start()\n",
    "th2.start()\n",
    "\n",
    "th1.join()\n",
    "th2.join()"
   ]
  },
  {
   "cell_type": "code",
   "execution_count": null,
   "metadata": {},
   "outputs": [],
   "source": [
    "import socket\n",
    "server = socket.socket()\n"
   ]
  },
  {
   "cell_type": "code",
   "execution_count": null,
   "metadata": {},
   "outputs": [
    {
     "name": "stdout",
     "output_type": "stream",
     "text": [
      "Server is listing for clients on localhost:12345\n"
     ]
    }
   ],
   "source": [
    "def send(client):\n",
    "\twhile True : \n",
    "\t\tmsg  = input(\"server-->\")\n",
    "\t\tclient.send(msg.encode())\n",
    "\t\tif msg.lower().strip() == 'bye' :\n",
    "\t\t\tclient.close()\n",
    "\t\t\tprint(\"Connection closed by server\")\n",
    "\t\t\tbreak\n",
    "\t\t\n",
    "def recv(client):\n",
    "\twhile True : \n",
    "\t\tmsg = client.recv(1024).decode()\n",
    "\t\tmsg = f\"client--> {msg}\"\n",
    "\t\tprint(msg.rjust(50))\n",
    "\t\tif msg.lower().strip() == 'bye' : \n",
    "\t\t\tclient.close()\n",
    "\t\t\tprint(\"Connection closed by client\")\n",
    "\t\t\tbreak\n",
    "\t\t\n",
    "import socket\n",
    "import threading\n",
    "server = socket.socket() \n",
    "host = 'localhost'\n",
    "port = 12345\n",
    "server.bind((host,port))\n",
    "server.listen()\n",
    "\n",
    "print(f\"Server is listing for clients on {host}:{port}\")\n",
    "client_socket,client_address = server.accept()\n",
    "print(f\"Got a connection from {client_address[0]}:{client_address[1]}\")\n",
    "\n",
    "msg_send = threading.Thread(target=send,args=(client_socket,))\n",
    "msg_recv = threading.Thread(target=recv,args=(client_socket,))\n",
    "\n",
    "msg_send.start()\n",
    "msg_recv.start()\n",
    "\n",
    "msg_send.join()\n",
    "msg_recv.join() \t\t\t\n",
    "\n",
    "\n"
   ]
  },
  {
   "cell_type": "code",
   "execution_count": null,
   "metadata": {},
   "outputs": [],
   "source": [
    "def send(client):\n",
    "\twhile True : \n",
    "\t\tmsg  = input(\"server-->\")\n",
    "\t\tclient.send(msg.encode())\n",
    "\t\tif msg.lower().strip() == 'bye' :\n",
    "\t\t\tclient.close()\n",
    "\t\t\tprint(\"Connection closed by server\")\n",
    "\t\t\tbreak\n",
    "\t\t\n",
    "def recv(client):\n",
    "\twhile True : \n",
    "\t\tmsg = client.recv(1024).decode()\n",
    "\t\tmsg = f\"client--> {msg}\"\n",
    "\t\tprint(msg.rjust(50))\n",
    "\t\tif msg.lower().strip() == 'bye' : \n",
    "\t\t\tclient.close()\n",
    "\t\t\tprint(\"Connection closed by client\")\n",
    "\t\t\tbreak\n",
    "\t\t\n",
    "import socket\n",
    "import threading\n",
    "server = socket.socket() \n",
    "host = 'localhost'\n",
    "port = 12345\n",
    "server.connect((host,port))\n",
    "\n",
    "print(f\"Connected to {host}:{port}\")\n",
    "\n",
    "msg_send = threading.Thread(target=send,args=(server,))\n",
    "msg_recv = threading.Thread(target=recv,args=(server,))\n",
    "\n",
    "msg_send.start()\n",
    "msg_recv.start()\n",
    "\n",
    "msg_send.join()\n",
    "msg_recv.join() \t\t\t\n",
    "\n",
    "\n"
   ]
  },
  {
   "cell_type": "code",
   "execution_count": null,
   "metadata": {},
   "outputs": [],
   "source": []
  },
  {
   "cell_type": "code",
   "execution_count": null,
   "metadata": {},
   "outputs": [],
   "source": []
  }
 ],
 "metadata": {
  "kernelspec": {
   "display_name": "Python 3",
   "language": "python",
   "name": "python3"
  },
  "language_info": {
   "codemirror_mode": {
    "name": "ipython",
    "version": 3
   },
   "file_extension": ".py",
   "mimetype": "text/x-python",
   "name": "python",
   "nbconvert_exporter": "python",
   "pygments_lexer": "ipython3",
   "version": "3.6.5"
  }
 },
 "nbformat": 4,
 "nbformat_minor": 2
}
