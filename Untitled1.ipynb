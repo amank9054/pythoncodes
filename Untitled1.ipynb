{
 "cells": [
  {
   "cell_type": "code",
   "execution_count": 1,
   "metadata": {},
   "outputs": [
    {
     "name": "stdout",
     "output_type": "stream",
     "text": [
      "*\n",
      "**\n",
      "***\n",
      "****\n",
      "*****\n",
      "******\n",
      "*******\n",
      "********\n",
      "*********\n",
      "**********\n"
     ]
    }
   ],
   "source": []
  },
  {
   "cell_type": "code",
   "execution_count": 5,
   "metadata": {},
   "outputs": [
    {
     "name": "stdout",
     "output_type": "stream",
     "text": [
      "* * * * * * * * * * * * * * * "
     ]
    }
   ],
   "source": [
    "c=1\n",
    "while c<=15:\n",
    "    \n",
    "    print('*',end=' ')\n",
    "    c=c+1"
   ]
  },
  {
   "cell_type": "code",
   "execution_count": null,
   "metadata": {},
   "outputs": [],
   "source": [
    "\n",
    "\n",
    "5+3\n"
   ]
  },
  {
   "cell_type": "code",
   "execution_count": 1,
   "metadata": {},
   "outputs": [
    {
     "name": "stdout",
     "output_type": "stream",
     "text": [
      "hello\thi\n"
     ]
    }
   ],
   "source": [
    "print(\"hello\",end=\"\\t\")\n",
    "print(\"hi\")\n"
   ]
  },
  {
   "cell_type": "code",
   "execution_count": 1,
   "metadata": {},
   "outputs": [
    {
     "name": "stdout",
     "output_type": "stream",
     "text": [
      "X\t \t \t \t \tX\tX\tX\tX\tX\t"
     ]
    }
   ],
   "source": [
    "c=0\n",
    "while c<=9:\n",
    "    if c==0 or c>4:\n",
    "            print(\"X\",end=\"\\t\")\n",
    "    else :\n",
    "        print(\" \",end=\"\\t\")\n",
    "    c+=1"
   ]
  },
  {
   "cell_type": "code",
   "execution_count": 2,
   "metadata": {},
   "outputs": [
    {
     "ename": "SyntaxError",
     "evalue": "invalid syntax (<ipython-input-2-a49785b3284f>, line 3)",
     "output_type": "error",
     "traceback": [
      "\u001b[1;36m  File \u001b[1;32m\"<ipython-input-2-a49785b3284f>\"\u001b[1;36m, line \u001b[1;32m3\u001b[0m\n\u001b[1;33m    return [var**2 for in args]\u001b[0m\n\u001b[1;37m                        ^\u001b[0m\n\u001b[1;31mSyntaxError\u001b[0m\u001b[1;31m:\u001b[0m invalid syntax\n"
     ]
    }
   ],
   "source": [
    "def square(*args):\n",
    "    \n",
    "    return [var**2 for in args]\n",
    "x = [ var for var in range(1,11)]\n",
    "y = square(x)\n",
    "print(\"num --> \",x)\n",
    "print(\"square -->\",y)\n"
   ]
  },
  {
   "cell_type": "code",
   "execution_count": 2,
   "metadata": {},
   "outputs": [
    {
     "data": {
      "text/plain": [
       "2.0"
      ]
     },
     "execution_count": 2,
     "metadata": {},
     "output_type": "execute_result"
    }
   ],
   "source": [
    "4/2\n"
   ]
  },
  {
   "cell_type": "code",
   "execution_count": 10,
   "metadata": {},
   "outputs": [],
   "source": [
    "count=0\n",
    "def findprime(num) :\n",
    "    global count\n",
    "    while num<0 :\n",
    "        if num%findprime(num-1)==0 :\n",
    "            count+=1\n",
    "        if count>1 :\n",
    "             return \"not prime\"\n",
    "        else :\n",
    "             return \"prime\"\n",
    "            \n",
    "                \n",
    "    \n",
    "findprime(5)\n"
   ]
  },
  {
   "cell_type": "code",
   "execution_count": 11,
   "metadata": {},
   "outputs": [],
   "source": [
    "findprime(5)"
   ]
  },
  {
   "cell_type": "code",
   "execution_count": 6,
   "metadata": {},
   "outputs": [
    {
     "name": "stdout",
     "output_type": "stream",
     "text": [
      "Print Alphabets and Letters pattern in python \n",
      "A  \n",
      "B C  \n",
      "D E F  \n",
      "G H I J  \n",
      "K L M N O  \n",
      "P Q R S T U  \n"
     ]
    }
   ],
   "source": [
    "print(\"Print Alphabets and Letters pattern in python \")\n",
    "lastNumber = 6\n",
    "asciiNumber = 65\n",
    "for i in range(0, lastNumber):\n",
    "    for j in range(0, i+1):\n",
    "        character  = chr(asciiNumber)\n",
    "        print(character, end=' ')\n",
    "        asciiNumber+=1\n",
    "    print(\" \")"
   ]
  },
  {
   "cell_type": "code",
   "execution_count": 78,
   "metadata": {},
   "outputs": [
    {
     "ename": "SyntaxError",
     "evalue": "invalid syntax (<ipython-input-78-3880c2314a06>, line 4)",
     "output_type": "error",
     "traceback": [
      "\u001b[1;36m  File \u001b[1;32m\"<ipython-input-78-3880c2314a06>\"\u001b[1;36m, line \u001b[1;32m4\u001b[0m\n\u001b[1;33m    for j in range(5)\u001b[0m\n\u001b[1;37m                     ^\u001b[0m\n\u001b[1;31mSyntaxError\u001b[0m\u001b[1;31m:\u001b[0m invalid syntax\n"
     ]
    }
   ],
   "source": [
    "i=1\n",
    "for i in range(5) :\n",
    "    print('x',end='\\n')\n",
    "    for j in range(5)\n",
    "        print('z',end='\\t')"
   ]
  },
  {
   "cell_type": "code",
   "execution_count": 13,
   "metadata": {},
   "outputs": [
    {
     "name": "stdout",
     "output_type": "stream",
     "text": [
      "x             x x x x x x x x x \n",
      " \n",
      " \n",
      " \n",
      "x \n",
      " \n",
      " \n",
      " \n",
      "x \n",
      " \n",
      " \n",
      " \n",
      "x \n",
      " \n",
      " \n",
      " \n",
      "x \n",
      " \n",
      " \n",
      " \n",
      "x \n",
      " \n",
      " \n",
      " \n"
     ]
    }
   ],
   "source": [
    "for var in range(0,15) :\n",
    "    if var==0 or var>6 :\n",
    "         print('x',end=' ')\n",
    "    else :\n",
    "        print(\" \",end=\" \")\n",
    "for var in range(0,6) :\n",
    "    for var in range(0,5) :\n",
    "        if var==0 or var==7 :\n",
    "            print('x',end=\"\")\n",
    "        else :\n",
    "            print(\" \",end=\"\\n\")\n",
    "        "
   ]
  },
  {
   "cell_type": "code",
   "execution_count": null,
   "metadata": {},
   "outputs": [],
   "source": [
    "zip??\n",
    "genrator??\n",
    "yeild?\n",
    "\n",
    "\n",
    "\n",
    "import requests"
   ]
  },
  {
   "cell_type": "code",
   "execution_count": null,
   "metadata": {},
   "outputs": [],
   "source": [
    "choice fn??\n",
    "\n",
    "\n",
    "from time import sleep\n",
    "from getpass import getpass\n",
    "\n",
    "\n",
    "\n",
    "d = {}\n",
    "d.update()\n",
    "data[] = {key:value,.....}\n",
    "\n",
    "\n",
    "\n",
    "from collection import counter\n",
    "\n",
    "\n",
    "API??\n"
   ]
  }
 ],
 "metadata": {
  "kernelspec": {
   "display_name": "Python 3",
   "language": "python",
   "name": "python3"
  },
  "language_info": {
   "codemirror_mode": {
    "name": "ipython",
    "version": 3
   },
   "file_extension": ".py",
   "mimetype": "text/x-python",
   "name": "python",
   "nbconvert_exporter": "python",
   "pygments_lexer": "ipython3",
   "version": "3.6.5"
  }
 },
 "nbformat": 4,
 "nbformat_minor": 2
}
