{
 "cells": [
  {
   "cell_type": "code",
   "execution_count": 5,
   "metadata": {},
   "outputs": [],
   "source": [
    " __name ------> #private var"
   ]
  },
  {
   "cell_type": "code",
   "execution_count": null,
   "metadata": {},
   "outputs": [],
   "source": [
    "# data abstraction  =  data hiding + encspsulation"
   ]
  },
  {
   "cell_type": "code",
   "execution_count": 6,
   "metadata": {},
   "outputs": [],
   "source": [
    " A._A__name # name mangling"
   ]
  },
  {
   "cell_type": "code",
   "execution_count": 1,
   "metadata": {},
   "outputs": [],
   "source": [
    "class student :\n",
    "    total_student = 0\n",
    "    def __init__(self,name,email,ph_n.,course,fees,due_fees) :\n",
    "        self.name=name\n",
    "        self.email = email\n",
    "        self.ph_n. = ph_n.\n",
    "        self.course = course\n",
    "        self.fees = fees\n",
    "        self.due_fees = due_fees\n",
    "        \n",
    "        def info(self):\n",
    "            print('name :',self.name)\n",
    "            print('email : ',email)\n",
    "            print('ph_n. : ',ph_n.)\n",
    "            print('course :',self.course)\n",
    "            print('fees :',self.fees)\n",
    "            print('due_fees :',self.due_fees)\n",
    "            \n",
    "            def"
   ]
  },
  {
   "cell_type": "code",
   "execution_count": 20,
   "metadata": {},
   "outputs": [],
   "source": [
    "class parent : \n",
    "    def __init__(self,name) :\n",
    "        self.name = name \n",
    "    def show(self) :\n",
    "        print ('my name is',self.name)\n",
    "            \n",
    "        "
   ]
  },
  {
   "cell_type": "code",
   "execution_count": 24,
   "metadata": {},
   "outputs": [],
   "source": [
    "class child(parent) :\n",
    "    def __init__(self,name,color) :\n",
    "        super().__init__(name)\n",
    "        self.color = color\n",
    "    def display(self) :\n",
    "            print ('my color--->',self.color)\n",
    "            print('my name--->',self.name)"
   ]
  },
  {
   "cell_type": "code",
   "execution_count": 26,
   "metadata": {},
   "outputs": [],
   "source": [
    "c1 = child('pareek','white')"
   ]
  },
  {
   "cell_type": "code",
   "execution_count": 27,
   "metadata": {},
   "outputs": [
    {
     "name": "stdout",
     "output_type": "stream",
     "text": [
      "<__main__.child object at 0x00000268DF50D748>\n"
     ]
    }
   ],
   "source": [
    "print(c1)"
   ]
  },
  {
   "cell_type": "code",
   "execution_count": 28,
   "metadata": {},
   "outputs": [
    {
     "name": "stdout",
     "output_type": "stream",
     "text": [
      "my color---> white\n",
      "my name---> pareek\n"
     ]
    }
   ],
   "source": [
    "c1.display()"
   ]
  },
  {
   "cell_type": "code",
   "execution_count": 55,
   "metadata": {},
   "outputs": [],
   "source": [
    "class A :\n",
    "    __slot__ = ['name','age','color']\n",
    "    def __init__(self,name,color) :\n",
    "        self.name = name\n",
    "        self.color = color\n",
    "        pass\n",
    "    def show(self) :\n",
    "        print('my name is',self.name)\n",
    "        print('color',self.color)\n",
    "        "
   ]
  },
  {
   "cell_type": "code",
   "execution_count": 56,
   "metadata": {},
   "outputs": [
    {
     "name": "stdout",
     "output_type": "stream",
     "text": [
      "my name is khan\n",
      "color red\n"
     ]
    }
   ],
   "source": [
    "a = A('khan','red')\n",
    "A.show(a)"
   ]
  },
  {
   "cell_type": "code",
   "execution_count": 50,
   "metadata": {},
   "outputs": [
    {
     "data": {
      "text/plain": [
       "'khan'"
      ]
     },
     "execution_count": 50,
     "metadata": {},
     "output_type": "execute_result"
    }
   ],
   "source": [
    "a.name"
   ]
  },
  {
   "cell_type": "code",
   "execution_count": 51,
   "metadata": {},
   "outputs": [
    {
     "data": {
      "text/plain": [
       "'red'"
      ]
     },
     "execution_count": 51,
     "metadata": {},
     "output_type": "execute_result"
    }
   ],
   "source": [
    "a.color"
   ]
  },
  {
   "cell_type": "code",
   "execution_count": 57,
   "metadata": {},
   "outputs": [],
   "source": [
    "# staticmethod classmethod"
   ]
  },
  {
   "cell_type": "code",
   "execution_count": 5,
   "metadata": {},
   "outputs": [
    {
     "name": "stdout",
     "output_type": "stream",
     "text": [
      "enter a no. : sfsdf\n",
      "__________\n",
      "enter a no. : ds\n",
      "__________\n",
      "enter a no. : fsdf\n",
      "__________\n",
      "enter a no. : sdf\n",
      "__________\n",
      "enter a no. : sdf\n",
      "__________\n",
      "enter a no. : s46\n",
      "__________\n",
      "enter a no. : 456\n",
      "square of no. : 207936\n"
     ]
    }
   ],
   "source": [
    "while True :\n",
    "    try : \n",
    "        num = int(input('enter a no. : '))\n",
    "        print('square of no. :',num**2)\n",
    "        break\n",
    "    except :\n",
    "        print('__________')\n"
   ]
  },
  {
   "cell_type": "code",
   "execution_count": 6,
   "metadata": {},
   "outputs": [],
   "source": [
    "import builtins"
   ]
  },
  {
   "cell_type": "code",
   "execution_count": 7,
   "metadata": {},
   "outputs": [
    {
     "name": "stdout",
     "output_type": "stream",
     "text": [
      "['ArithmeticError', 'AssertionError', 'AttributeError', 'BaseException', 'BlockingIOError', 'BrokenPipeError', 'BufferError', 'BytesWarning', 'ChildProcessError', 'ConnectionAbortedError', 'ConnectionError', 'ConnectionRefusedError', 'ConnectionResetError', 'DeprecationWarning', 'EOFError', 'Ellipsis', 'EnvironmentError', 'Exception', 'False', 'FileExistsError', 'FileNotFoundError', 'FloatingPointError', 'FutureWarning', 'GeneratorExit', 'IOError', 'ImportError', 'ImportWarning', 'IndentationError', 'IndexError', 'InterruptedError', 'IsADirectoryError', 'KeyError', 'KeyboardInterrupt', 'LookupError', 'MemoryError', 'ModuleNotFoundError', 'NameError', 'None', 'NotADirectoryError', 'NotImplemented', 'NotImplementedError', 'OSError', 'OverflowError', 'PendingDeprecationWarning', 'PermissionError', 'ProcessLookupError', 'RecursionError', 'ReferenceError', 'ResourceWarning', 'RuntimeError', 'RuntimeWarning', 'StopAsyncIteration', 'StopIteration', 'SyntaxError', 'SyntaxWarning', 'SystemError', 'SystemExit', 'TabError', 'TimeoutError', 'True', 'TypeError', 'UnboundLocalError', 'UnicodeDecodeError', 'UnicodeEncodeError', 'UnicodeError', 'UnicodeTranslateError', 'UnicodeWarning', 'UserWarning', 'ValueError', 'Warning', 'WindowsError', 'ZeroDivisionError', '__IPYTHON__', '__build_class__', '__debug__', '__doc__', '__import__', '__loader__', '__name__', '__package__', '__spec__', 'abs', 'all', 'any', 'ascii', 'bin', 'bool', 'bytearray', 'bytes', 'callable', 'chr', 'classmethod', 'compile', 'complex', 'copyright', 'credits', 'delattr', 'dict', 'dir', 'display', 'divmod', 'enumerate', 'eval', 'exec', 'filter', 'float', 'format', 'frozenset', 'get_ipython', 'getattr', 'globals', 'hasattr', 'hash', 'help', 'hex', 'id', 'input', 'int', 'isinstance', 'issubclass', 'iter', 'len', 'license', 'list', 'locals', 'map', 'max', 'memoryview', 'min', 'next', 'object', 'oct', 'open', 'ord', 'pow', 'print', 'property', 'range', 'repr', 'reversed', 'round', 'set', 'setattr', 'slice', 'sorted', 'staticmethod', 'str', 'sum', 'super', 'tuple', 'type', 'vars', 'zip']\n"
     ]
    }
   ],
   "source": [
    "print(dir(builtins))"
   ]
  },
  {
   "cell_type": "code",
   "execution_count": 5,
   "metadata": {},
   "outputs": [
    {
     "name": "stdout",
     "output_type": "stream",
     "text": [
      "enter no. :6\n",
      "enter no. :7\n",
      "result is  0.8571428571428571\n"
     ]
    }
   ],
   "source": [
    "while True :\n",
    "    try :\n",
    "        x=int(input('enter no. :'))\n",
    "        y=int(input('enter no. :'))\n",
    "        r =x/y \n",
    "        print('result is ',r)\n",
    "        break\n",
    "    except ValueError as msg :\n",
    "        print(f\"!!Error!! {msg} \")\n",
    "    except ZeroDivisionError as err :\n",
    "        print('are you mad')"
   ]
  },
  {
   "cell_type": "code",
   "execution_count": 6,
   "metadata": {},
   "outputs": [
    {
     "name": "stdout",
     "output_type": "stream",
     "text": [
      "enter no. :232\n",
      "enter no. :dfd\n",
      "!!Error!! invalid literal for int() with base 10: 'dfd' \n",
      "_____wait_____\n",
      "enter no. :dsf\n",
      "!!Error!! invalid literal for int() with base 10: 'dsf' \n",
      "_____wait_____\n",
      "enter no. :d\n",
      "!!Error!! invalid literal for int() with base 10: 'd' \n",
      "_____wait_____\n",
      "enter no. :df\n",
      "!!Error!! invalid literal for int() with base 10: 'df' \n",
      "_____wait_____\n",
      "enter no. :df\n",
      "!!Error!! invalid literal for int() with base 10: 'df' \n",
      "_____wait_____\n",
      "enter no. :ds\n",
      "!!Error!! invalid literal for int() with base 10: 'ds' \n",
      "_____wait_____\n",
      "enter no. :d\n",
      "!!Error!! invalid literal for int() with base 10: 'd' \n",
      "_____wait_____\n",
      "enter no. :f213\n",
      "!!Error!! invalid literal for int() with base 10: 'f213' \n",
      "_____wait_____\n",
      "enter no. :234\n",
      "enter no. :234\n",
      "result is  1.0\n",
      "_____wait_____\n"
     ]
    }
   ],
   "source": [
    "while True :\n",
    "    try :\n",
    "        x=int(input('enter no. :'))\n",
    "        y=int(input('enter no. :'))\n",
    "        r =x/y \n",
    "        print('result is ',r)\n",
    "        break\n",
    "    except ValueError as msg :\n",
    "        print(f\"!!Error!! {msg} \")\n",
    "    except ZeroDivisionError as err :\n",
    "        print('are you mad')\n",
    "    finally :\n",
    "        print('_____wait_____')"
   ]
  },
  {
   "cell_type": "code",
   "execution_count": null,
   "metadata": {},
   "outputs": [
    {
     "name": "stdout",
     "output_type": "stream",
     "text": [
      "enter no. :dfg\n",
      "!!Error!! invalid literal for int() with base 10: 'dfg' \n",
      "done\n",
      "enter no. :dgdfg\n",
      "!!Error!! invalid literal for int() with base 10: 'dgdfg' \n",
      "done\n",
      "enter no. :dfgdf\n",
      "!!Error!! invalid literal for int() with base 10: 'dfgdf' \n",
      "done\n",
      "enter no. :34\n",
      "enter no. :34\n",
      "result is  1.0\n",
      "--error--\n",
      "done\n",
      "enter no. :34\n",
      "enter no. :34\n",
      "result is  1.0\n",
      "--error--\n",
      "done\n"
     ]
    }
   ],
   "source": [
    "while True :\n",
    "    try :\n",
    "        x=int(input('enter no. :'))\n",
    "        y=int(input('enter no. :'))\n",
    "        r =x/y \n",
    "        print('result is ',r)\n",
    "    except ValueError as msg :\n",
    "        print(f\"!!Error!! {msg} \")\n",
    "    except ZeroDivisionError as err :\n",
    "        print('are you mad')\n",
    "    else :\n",
    "        print('--error--')\n",
    "    finally :\n",
    "        print('done')    "
   ]
  },
  {
   "cell_type": "code",
   "execution_count": 1,
   "metadata": {},
   "outputs": [
    {
     "name": "stdout",
     "output_type": "stream",
     "text": [
      "enter no.:asd\n",
      "!!Error!!\n",
      "enter no.:sad\n",
      "!!Error!!\n",
      "enter no.:asd\n",
      "!!Error!!\n",
      "enter no.:-12\n",
      "!!Error Again!! number should be positive\n",
      "enter no.:12\n"
     ]
    }
   ],
   "source": [
    "while True :\n",
    "    try :\n",
    "        num=int(input('enter no.:'))\n",
    "        assert num > 0,\"number should be positive\"\n",
    "        break\n",
    "    except ValueError as w :\n",
    "        print(\"!!Error!!\")\n",
    "    except AssertionError as E :\n",
    "        print(\"!!Error Again!!\",E)"
   ]
  },
  {
   "cell_type": "code",
   "execution_count": null,
   "metadata": {},
   "outputs": [],
   "source": [
    "class myerror(Exception):\n",
    "    "
   ]
  },
  {
   "cell_type": "code",
   "execution_count": null,
   "metadata": {},
   "outputs": [],
   "source": []
  }
 ],
 "metadata": {
  "kernelspec": {
   "display_name": "Python 3",
   "language": "python",
   "name": "python3"
  },
  "language_info": {
   "codemirror_mode": {
    "name": "ipython",
    "version": 3
   },
   "file_extension": ".py",
   "mimetype": "text/x-python",
   "name": "python",
   "nbconvert_exporter": "python",
   "pygments_lexer": "ipython3",
   "version": "3.6.5"
  }
 },
 "nbformat": 4,
 "nbformat_minor": 2
}
